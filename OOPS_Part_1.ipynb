{
  "nbformat": 4,
  "nbformat_minor": 0,
  "metadata": {
    "colab": {
      "provenance": [],
      "authorship_tag": "ABX9TyNanjhFMhEjb96UcbEwXC11",
      "include_colab_link": true
    },
    "kernelspec": {
      "name": "python3",
      "display_name": "Python 3"
    },
    "language_info": {
      "name": "python"
    }
  },
  "cells": [
    {
      "cell_type": "markdown",
      "metadata": {
        "id": "view-in-github",
        "colab_type": "text"
      },
      "source": [
        "<a href=\"https://colab.research.google.com/github/kirti-369/Python/blob/main/OOPS_Part_1.ipynb\" target=\"_parent\"><img src=\"https://colab.research.google.com/assets/colab-badge.svg\" alt=\"Open In Colab\"/></a>"
      ]
    },
    {
      "cell_type": "markdown",
      "source": [
        "**OOPS Part - 1**"
      ],
      "metadata": {
        "id": "Fwb9mqGIurCp"
      }
    },
    {
      "cell_type": "code",
      "execution_count": null,
      "metadata": {
        "id": "9-CuzmM7ukMi"
      },
      "outputs": [],
      "source": [
        "a = 1"
      ]
    },
    {
      "cell_type": "code",
      "source": [
        "print(type(a))"
      ],
      "metadata": {
        "colab": {
          "base_uri": "https://localhost:8080/"
        },
        "id": "YkzVuXpVuze8",
        "outputId": "87d33f96-b4ba-48d8-f7a0-81f5bbb2f2e0"
      },
      "execution_count": null,
      "outputs": [
        {
          "output_type": "stream",
          "name": "stdout",
          "text": [
            "<class 'int'>\n"
          ]
        }
      ]
    },
    {
      "cell_type": "markdown",
      "source": [
        "a is a variable also called as class or instance or object. a is a class of integer"
      ],
      "metadata": {
        "id": "3QQV-Hn9u3qy"
      }
    },
    {
      "cell_type": "code",
      "source": [
        "type(a)"
      ],
      "metadata": {
        "colab": {
          "base_uri": "https://localhost:8080/"
        },
        "id": "gMy_8lYFvM5F",
        "outputId": "3d59dc2a-c467-4bd0-c706-9a3c632dd181"
      },
      "execution_count": null,
      "outputs": [
        {
          "output_type": "execute_result",
          "data": {
            "text/plain": [
              "int"
            ]
          },
          "metadata": {},
          "execution_count": 3
        }
      ]
    },
    {
      "cell_type": "code",
      "source": [
        "class test:\n",
        "  pass"
      ],
      "metadata": {
        "id": "0zjqdBfJvTOE"
      },
      "execution_count": null,
      "outputs": []
    },
    {
      "cell_type": "code",
      "source": [
        "a = test()"
      ],
      "metadata": {
        "id": "p1RuOvoDvXj4"
      },
      "execution_count": null,
      "outputs": []
    },
    {
      "cell_type": "code",
      "source": [
        "type(a)"
      ],
      "metadata": {
        "colab": {
          "base_uri": "https://localhost:8080/"
        },
        "id": "nWXIb2iFvcV1",
        "outputId": "a23458c5-99a3-4c57-d8be-66293254611b"
      },
      "execution_count": null,
      "outputs": [
        {
          "output_type": "execute_result",
          "data": {
            "text/plain": [
              "__main__.test"
            ]
          },
          "metadata": {},
          "execution_count": 8
        }
      ]
    },
    {
      "cell_type": "markdown",
      "source": [
        "a is inside class test"
      ],
      "metadata": {
        "id": "_ethGvDRvP22"
      }
    },
    {
      "cell_type": "code",
      "source": [
        "print(type(a))"
      ],
      "metadata": {
        "colab": {
          "base_uri": "https://localhost:8080/"
        },
        "id": "ofhRn_IQvi-q",
        "outputId": "809a602c-24a2-4f31-de86-94342d885108"
      },
      "execution_count": null,
      "outputs": [
        {
          "output_type": "stream",
          "name": "stdout",
          "text": [
            "<class '__main__.test'>\n"
          ]
        }
      ]
    },
    {
      "cell_type": "code",
      "source": [
        "class hello:\n",
        "  def welcome_msg():\n",
        "    print(\"hello world\")"
      ],
      "metadata": {
        "id": "1j4NCFQov-ap"
      },
      "execution_count": null,
      "outputs": []
    },
    {
      "cell_type": "code",
      "source": [
        "abc = hello()\n"
      ],
      "metadata": {
        "id": "jaP0wZYRwQFo"
      },
      "execution_count": null,
      "outputs": []
    },
    {
      "cell_type": "markdown",
      "source": [
        "abc is a variable of class hello"
      ],
      "metadata": {
        "id": "bjCppFHDwhTq"
      }
    },
    {
      "cell_type": "code",
      "source": [
        "print(type(abc))"
      ],
      "metadata": {
        "colab": {
          "base_uri": "https://localhost:8080/"
        },
        "id": "B-oYKKt6wlsD",
        "outputId": "b4f47b6a-5e1e-417b-fa73-1d55f5ae70ea"
      },
      "execution_count": null,
      "outputs": [
        {
          "output_type": "stream",
          "name": "stdout",
          "text": [
            "<class '__main__.hello'>\n"
          ]
        }
      ]
    },
    {
      "cell_type": "code",
      "source": [
        "abc.welcome_msg()"
      ],
      "metadata": {
        "colab": {
          "base_uri": "https://localhost:8080/",
          "height": 141
        },
        "id": "7RQOQ6jkwuyc",
        "outputId": "f25b799e-a22e-47e0-d186-bb14b0959de3"
      },
      "execution_count": null,
      "outputs": [
        {
          "output_type": "error",
          "ename": "TypeError",
          "evalue": "hello.welcome_msg() takes 0 positional arguments but 1 was given",
          "traceback": [
            "\u001b[0;31m---------------------------------------------------------------------------\u001b[0m",
            "\u001b[0;31mTypeError\u001b[0m                                 Traceback (most recent call last)",
            "\u001b[0;32m<ipython-input-14-2d5c32fcb9a1>\u001b[0m in \u001b[0;36m<cell line: 0>\u001b[0;34m()\u001b[0m\n\u001b[0;32m----> 1\u001b[0;31m \u001b[0mabc\u001b[0m\u001b[0;34m.\u001b[0m\u001b[0mwelcome_msg\u001b[0m\u001b[0;34m(\u001b[0m\u001b[0;34m)\u001b[0m\u001b[0;34m\u001b[0m\u001b[0;34m\u001b[0m\u001b[0m\n\u001b[0m",
            "\u001b[0;31mTypeError\u001b[0m: hello.welcome_msg() takes 0 positional arguments but 1 was given"
          ]
        }
      ]
    },
    {
      "cell_type": "markdown",
      "source": [
        "to not get the above error we should assigned self inside method"
      ],
      "metadata": {
        "id": "M62nv5uFw8xs"
      }
    },
    {
      "cell_type": "code",
      "source": [
        "class hello:\n",
        "  def welcome_msg(self):\n",
        "    print(\"hello world\")"
      ],
      "metadata": {
        "id": "8fKy477PxHUf"
      },
      "execution_count": null,
      "outputs": []
    },
    {
      "cell_type": "code",
      "source": [
        "abc = hello()"
      ],
      "metadata": {
        "id": "fWluPFI-xbnX"
      },
      "execution_count": null,
      "outputs": []
    },
    {
      "cell_type": "code",
      "source": [
        "abc.welcome_msg()"
      ],
      "metadata": {
        "colab": {
          "base_uri": "https://localhost:8080/"
        },
        "id": "BmX528uGxTsP",
        "outputId": "0502dbf1-562c-4fac-995c-c52947f9288b"
      },
      "execution_count": null,
      "outputs": [
        {
          "output_type": "stream",
          "name": "stdout",
          "text": [
            "hello world\n"
          ]
        }
      ]
    },
    {
      "cell_type": "code",
      "source": [
        "class hello:\n",
        "  def __init__(self, phone_number, email_address, student_id):\n",
        "    self.phone_number1 = phone_number\n",
        "    self.email_address = email_address\n",
        "    self.student_id = student_id\n",
        "\n",
        "  def return_student_details(self):\n",
        "    return self.student_id , self.email_address , self.phone_number1"
      ],
      "metadata": {
        "id": "v4WFMumUxd_6"
      },
      "execution_count": null,
      "outputs": []
    },
    {
      "cell_type": "markdown",
      "source": [
        "__init__ is a constructor where we used to pass data inside that"
      ],
      "metadata": {
        "id": "k2wep-8Z2_w0"
      }
    },
    {
      "cell_type": "code",
      "source": [
        "object = hello()"
      ],
      "metadata": {
        "colab": {
          "base_uri": "https://localhost:8080/",
          "height": 141
        },
        "id": "WoEmQWLc1Av2",
        "outputId": "cd750ea2-4de3-477b-cf8d-bc0ea0202ce5"
      },
      "execution_count": null,
      "outputs": [
        {
          "output_type": "error",
          "ename": "TypeError",
          "evalue": "hello.__init__() missing 3 required positional arguments: 'phone_number', 'email_address', and 'student_id'",
          "traceback": [
            "\u001b[0;31m---------------------------------------------------------------------------\u001b[0m",
            "\u001b[0;31mTypeError\u001b[0m                                 Traceback (most recent call last)",
            "\u001b[0;32m<ipython-input-34-d00c369859b8>\u001b[0m in \u001b[0;36m<cell line: 0>\u001b[0;34m()\u001b[0m\n\u001b[0;32m----> 1\u001b[0;31m \u001b[0mobject\u001b[0m \u001b[0;34m=\u001b[0m \u001b[0mhello\u001b[0m\u001b[0;34m(\u001b[0m\u001b[0;34m)\u001b[0m\u001b[0;34m\u001b[0m\u001b[0;34m\u001b[0m\u001b[0m\n\u001b[0m",
            "\u001b[0;31mTypeError\u001b[0m: hello.__init__() missing 3 required positional arguments: 'phone_number', 'email_address', and 'student_id'"
          ]
        }
      ]
    },
    {
      "cell_type": "code",
      "source": [
        "object = hello(2345678901,\"abc@gmail.com\", 123)"
      ],
      "metadata": {
        "id": "arqeSgNz4KD5"
      },
      "execution_count": null,
      "outputs": []
    },
    {
      "cell_type": "code",
      "source": [
        "object.return_student_details()"
      ],
      "metadata": {
        "colab": {
          "base_uri": "https://localhost:8080/"
        },
        "id": "0YZYPeck4VqG",
        "outputId": "0940075b-df8c-4216-85b9-3a91bd3b2a58"
      },
      "execution_count": null,
      "outputs": [
        {
          "output_type": "execute_result",
          "data": {
            "text/plain": [
              "(123, 'abc@gmail.com', 2345678901)"
            ]
          },
          "metadata": {},
          "execution_count": 37
        }
      ]
    },
    {
      "cell_type": "code",
      "source": [
        "object.email_address"
      ],
      "metadata": {
        "colab": {
          "base_uri": "https://localhost:8080/",
          "height": 36
        },
        "id": "Q2ZqkMdz74kC",
        "outputId": "2ce45e7d-1f7a-4efe-bbf2-c58da3f91c5a"
      },
      "execution_count": null,
      "outputs": [
        {
          "output_type": "execute_result",
          "data": {
            "text/plain": [
              "'abc@gmail.com'"
            ],
            "application/vnd.google.colaboratory.intrinsic+json": {
              "type": "string"
            }
          },
          "metadata": {},
          "execution_count": 38
        }
      ]
    },
    {
      "cell_type": "code",
      "source": [
        "object.student_id"
      ],
      "metadata": {
        "colab": {
          "base_uri": "https://localhost:8080/"
        },
        "id": "-LGXls6-77zO",
        "outputId": "1cb19b25-ec2c-462f-e937-eacddd8d5153"
      },
      "execution_count": null,
      "outputs": [
        {
          "output_type": "execute_result",
          "data": {
            "text/plain": [
              "123"
            ]
          },
          "metadata": {},
          "execution_count": 39
        }
      ]
    },
    {
      "cell_type": "code",
      "source": [
        "object.return_student_details()"
      ],
      "metadata": {
        "colab": {
          "base_uri": "https://localhost:8080/"
        },
        "id": "--OsONJE7_ZY",
        "outputId": "47657844-cc12-45d6-94a0-70f15be2ca6a"
      },
      "execution_count": null,
      "outputs": [
        {
          "output_type": "execute_result",
          "data": {
            "text/plain": [
              "(123, 'abc@gmail.com', 2345678901)"
            ]
          },
          "metadata": {},
          "execution_count": 40
        }
      ]
    },
    {
      "cell_type": "code",
      "source": [
        "class hello:\n",
        "  def __init__(object, phone_number, email_address, student_id):\n",
        "    object.phone_number1 = phone_number\n",
        "    object.email_address = email_address\n",
        "    object.student_id = student_id\n",
        "\n",
        "  def return_student_details(object):\n",
        "    return object.student_id , object.email_address , object.phone_number1 #instead of self i have put object"
      ],
      "metadata": {
        "id": "90cm3ChbLAMl"
      },
      "execution_count": null,
      "outputs": []
    },
    {
      "cell_type": "code",
      "source": [
        "object.phone_number1"
      ],
      "metadata": {
        "colab": {
          "base_uri": "https://localhost:8080/"
        },
        "id": "NQACi4ffLbxx",
        "outputId": "48da5040-ff08-4e04-9409-49773a6ad38b"
      },
      "execution_count": null,
      "outputs": [
        {
          "output_type": "execute_result",
          "data": {
            "text/plain": [
              "2345678901"
            ]
          },
          "metadata": {},
          "execution_count": 42
        }
      ]
    },
    {
      "cell_type": "code",
      "source": [],
      "metadata": {
        "id": "NY7T9vb1MKmF"
      },
      "execution_count": null,
      "outputs": []
    }
  ]
}